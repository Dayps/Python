{
 "cells": [
  {
   "cell_type": "markdown",
   "metadata": {},
   "source": [
    "##  Teorema de Pitágoras "
   ]
  },
  {
   "attachments": {},
   "cell_type": "markdown",
   "metadata": {},
   "source": [
    "**O objetivo dessa aula é entender como funciona o teorema de Pitágoras através da programação python.\n",
    "\n",
    "A equação do teorema de Pitágoras é:\n",
    "\n",
    "a^2 + b^2 = c^2\n",
    "\n",
    "em que a e b são as medidas dos dois catetos do triângulo, e c é a medida da hipotenusa.\n",
    "\n",
    "Um triângulo é dito retângulo quando possui um ângulo reto, ou seja, que tem medida igual a 90º. Os lados de um triângulo retângulo recebem nomes especiais: os lados que formam o ângulo de 90º são chamados de catetos, já o terceiro lado, que é oposto ao ângulo de 90º, é chamado de hipotenusa.\n",
    "\n",
    "Assim que pensarmos em triângulo retângulo, devemos automaticamente lembrar do mais famoso dos teoremas matemáticos: o Teorema de Pitágoras. Esse teorema está relacionado à hipotenusa, que representaremos por a, e os catetos, que representaremos por b e c.\n",
    "\n",
    "* Mas afinal, quando devemos usar o teorema de Pitágoras? Normalmente o teorema de Pitágoras é utilizado quando conhecemos dois lados de um triângulo retângulo e queremos encontrar o terceiro lado.    \n",
    "\n",
    "\n",
    "Com a linguagem de programação podemos fazer um programa para inserir os valores dos catetos e obter o valor da hipotenusa.\n",
    "\n",
    "* Faça um programa que leia o comprimento do cateto oposto e do cateto adjacente de um triângulo retângulo. Calcule e mostre o comprimento da hipotenusa.\n"
   ]
  },
  {
   "cell_type": "code",
   "execution_count": 11,
   "metadata": {},
   "outputs": [
    {
     "name": "stdout",
     "output_type": "stream",
     "text": [
      "*** Resolução para o problema do teorema de Pitágoras ***\n",
      "\n",
      "* co = cateto oposto\n",
      "* ca = cateto adjacente\n",
      "* hip = hipotenusa\n",
      "Digite o comprimento do cateto oposto: 6\n",
      "Digite o comprimento do cateto adjacente: 8\n",
      "A hipotenusa vai medir 10.00\n"
     ]
    }
   ],
   "source": [
    "print('*** Resolução para o problema do teorema de Pitágoras ***\\n')\n",
    "\n",
    "print('* co = cateto oposto')\n",
    "print('* ca = cateto adjacente')\n",
    "print('* hip = hipotenusa')\n",
    "\n",
    "co = float(input('Digite o comprimento do cateto oposto: '))\n",
    "ca = float(input('Digite o comprimento do cateto adjacente: '))\n",
    "hip = (co**2 + ca**2) ** (1/2)\n",
    "\n",
    "# (1/2) => É a forma de calcular a raiz quadada de um número, no caso a raiz da hipotenusa.\n",
    "# :.2f é para definir quantas casas decimais quero que apareça no meu resultado.\n",
    "\n",
    "print(f'A hipotenusa vai medir {hip:.2f}')"
   ]
  }
 ],
 "metadata": {
  "kernelspec": {
   "display_name": "Python 3",
   "language": "python",
   "name": "python3"
  },
  "language_info": {
   "codemirror_mode": {
    "name": "ipython",
    "version": 3
   },
   "file_extension": ".py",
   "mimetype": "text/x-python",
   "name": "python",
   "nbconvert_exporter": "python",
   "pygments_lexer": "ipython3",
   "version": "3.7.6"
  }
 },
 "nbformat": 4,
 "nbformat_minor": 4
}
