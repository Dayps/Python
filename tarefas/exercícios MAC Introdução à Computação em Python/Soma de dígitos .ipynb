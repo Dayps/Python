{
 "cells": [
  {
   "cell_type": "code",
   "execution_count": 3,
   "metadata": {},
   "outputs": [
    {
     "name": "stdout",
     "output_type": "stream",
     "text": [
      "Digite um numero inteiro: 45864\n",
      "A soma dos digitos eh: 27\n"
     ]
    }
   ],
   "source": [
    "# Soma dos digitos\n",
    "\n",
    "num = int(input('Digite um numero inteiro: '))\n",
    "soma = 0\n",
    "while (num != 0):\n",
    "    resto = num % 10\n",
    "    num = (num - resto) // 10\n",
    "    soma = soma + resto\n",
    "print(f'A soma dos digitos eh: {soma}')"
   ]
  }
 ],
 "metadata": {
  "kernelspec": {
   "display_name": "Python 3",
   "language": "python",
   "name": "python3"
  },
  "language_info": {
   "codemirror_mode": {
    "name": "ipython",
    "version": 3
   },
   "file_extension": ".py",
   "mimetype": "text/x-python",
   "name": "python",
   "nbconvert_exporter": "python",
   "pygments_lexer": "ipython3",
   "version": "3.7.6"
  }
 },
 "nbformat": 4,
 "nbformat_minor": 4
}
