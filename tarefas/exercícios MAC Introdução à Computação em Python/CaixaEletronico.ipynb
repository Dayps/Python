{
 "cells": [
  {
   "cell_type": "code",
   "execution_count": 5,
   "metadata": {},
   "outputs": [
    {
     "name": "stdout",
     "output_type": "stream",
     "text": [
      "Digite o valor a ser retirado: 1391\n",
      "O seu valor de: R$1391.00 reais corresponde a:\n",
      "6 nota(s) de R$200,00\n",
      "1 nota(s) de R$100,00\n",
      "1 nota(s) de R$50,00\n",
      "2 nota(s) de R$20,00\n",
      "0 nota(s) de R$10,00\n",
      "0 nota(s) de R$5,00\n",
      "0 nota(s) de R$2,00\n",
      "1 moeda(s) de R$1,00\n"
     ]
    }
   ],
   "source": [
    "import math\n",
    "# caixa eletronico simples sem loop (notas que serão retiradas)\n",
    "\n",
    "valor = int(input('Digite o valor a ser retirado: '))\n",
    "print(f'O seu valor de: R${valor:.2f} reais corresponde a:')\n",
    "cédula = 200     # começar com a nota mais alta\n",
    "\n",
    "duzentos = (valor//cédula)\n",
    "resto200 = (valor % cédula)\n",
    "print(f'{duzentos} nota(s) de R$200,00')\n",
    "\n",
    "cem = (resto200 // 100)\n",
    "resto100 = (resto200 % 100)\n",
    "print(f'{cem} nota(s) de R$100,00')\n",
    "\n",
    "cinquenta = (resto100 // 50)\n",
    "resto50 = (resto100 % 50)\n",
    "print(f'{cinquenta} nota(s) de R$50,00')\n",
    "\n",
    "vinte = (resto50 // 20)\n",
    "resto20 = (resto50 % 20)\n",
    "print(f'{vinte} nota(s) de R$20,00')\n",
    "\n",
    "dez = (resto20 // 10)\n",
    "resto10 = (resto20 % 10)\n",
    "print(f'{dez} nota(s) de R$10,00')\n",
    "\n",
    "cinco = (resto10 // 5)\n",
    "resto5 = (resto10 % 5)\n",
    "print(f'{cinco} nota(s) de R$5,00')\n",
    "\n",
    "dois = (resto5 // 2)\n",
    "resto2 = (resto5 % 2)\n",
    "print(f'{dois} nota(s) de R$2,00')\n",
    "\n",
    "um = (resto2 // 1)\n",
    "print(f'{um} moeda(s) de R$1,00')\n"
   ]
  },
  {
   "cell_type": "code",
   "execution_count": null,
   "metadata": {},
   "outputs": [],
   "source": []
  }
 ],
 "metadata": {
  "kernelspec": {
   "display_name": "Python 3",
   "language": "python",
   "name": "python3"
  },
  "language_info": {
   "codemirror_mode": {
    "name": "ipython",
    "version": 3
   },
   "file_extension": ".py",
   "mimetype": "text/x-python",
   "name": "python",
   "nbconvert_exporter": "python",
   "pygments_lexer": "ipython3",
   "version": "3.7.6"
  }
 },
 "nbformat": 4,
 "nbformat_minor": 4
}
