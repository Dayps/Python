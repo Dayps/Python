{
 "cells": [
  {
   "cell_type": "code",
   "execution_count": 2,
   "metadata": {},
   "outputs": [
    {
     "name": "stdout",
     "output_type": "stream",
     "text": [
      "Digite o valor do maior raio: \n",
      "3.0\n",
      "Digite o valor do menor raio: \n",
      "1.0\n",
      "Digite o valor da coordenada x do ponto p: \n",
      "1.5\n",
      "Digite o valor da coordenada y do ponto p: \n",
      "1.5\n",
      "Sua pontuacao foi: 20\n"
     ]
    }
   ],
   "source": [
    "#include <stdio.h>\n",
    "import math\n",
    "\n",
    "circle_x = 0\n",
    "circle_y = 0\n",
    "\n",
    "r2 = float(input('Digite o valor do maior raio: \\n'))\n",
    "r1 = float(input('Digite o valor do menor raio: \\n'))\n",
    "\n",
    "x = float(input('Digite o valor da coordenada x do ponto p: \\n'))\n",
    "y = float(input('Digite o valor da coordenada y do ponto p: \\n'))\n",
    "\n",
    "p = math.sqrt((circle_x - x)**2 + (circle_y - y)**2)\n",
    "\n",
    "if p > r2:\n",
    "    print('Sua pontuacao foi: 0')\n",
    "elif r2 >= p > r1:\n",
    "    print('Sua pontuacao foi: 20')\n",
    "elif p <= r1:\n",
    "    print('Sua pontuacao foi: 50')\n"
   ]
  },
  {
   "cell_type": "code",
   "execution_count": null,
   "metadata": {},
   "outputs": [],
   "source": []
  }
 ],
 "metadata": {
  "kernelspec": {
   "display_name": "Python 3",
   "language": "python",
   "name": "python3"
  },
  "language_info": {
   "codemirror_mode": {
    "name": "ipython",
    "version": 3
   },
   "file_extension": ".py",
   "mimetype": "text/x-python",
   "name": "python",
   "nbconvert_exporter": "python",
   "pygments_lexer": "ipython3",
   "version": "3.7.6"
  }
 },
 "nbformat": 4,
 "nbformat_minor": 4
}
