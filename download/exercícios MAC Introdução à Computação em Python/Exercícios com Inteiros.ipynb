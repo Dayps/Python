{
 "cells": [
  {
   "cell_type": "code",
   "execution_count": null,
   "metadata": {},
   "outputs": [],
   "source": [
    "\"\"\"\"\n",
    "Exercícios ime-USP\n",
    "\n",
    "\"\"\"\""
   ]
  },
  {
   "cell_type": "code",
   "execution_count": 29,
   "metadata": {},
   "outputs": [
    {
     "name": "stdout",
     "output_type": "stream",
     "text": [
      "Quadrado de uma sequencia de números digitados.\n",
      "\n",
      "A sequência termina digitando 0 (zero).\n",
      "\n",
      "Digite um número: 3\n",
      "3 ao quadrado de é 9\n",
      "Digite um número: 5\n",
      "5 ao quadrado de é 25\n",
      "Digite um número: 8\n",
      "8 ao quadrado de é 64\n",
      "Digite um número: 0\n"
     ]
    }
   ],
   "source": [
    "# 1.  Dada uma seqüência de números inteiros não-nulos, seguida por 0, imprimir seus quadrados.\n",
    "\n",
    "print('Quadrado de uma sequencia de números digitados.\\n')\n",
    "print('A sequência termina digitando 0 (zero).\\n')\n",
    "\n",
    "num = int(input('Digite um número: '))\n",
    "\n",
    "while num != 0:\n",
    "    quadrado = num * num\n",
    "    print(num, 'ao quadrado de é', quadrado)\n",
    "    num = int(input('Digite um número: '))\n",
    "    \n"
   ]
  },
  {
   "cell_type": "code",
   "execution_count": 8,
   "metadata": {},
   "outputs": [
    {
     "name": "stdout",
     "output_type": "stream",
     "text": [
      "Soma dos n primeiros inteiros\n",
      "Digite o valor do número desejado: 5\n",
      "A soma dos 5 primeiros inteiros positivos é 15\n"
     ]
    }
   ],
   "source": [
    "#2.  Dado um número inteiro positivo n, calcular a soma dos n primeiros números inteiros positivos.\n",
    "\n",
    "print('Soma dos n primeiros inteiros')\n",
    "\n",
    "num = int(input('Digite o valor do número desejado: '))\n",
    "# num vai ser a sequencia de números para haver a soma\n",
    "\n",
    "soma = 0\n",
    "i = 1\n",
    "while i <= num:\n",
    "    soma = soma + i\n",
    "    i = i + 1\n",
    "    \n",
    "print('A soma dos', num, 'primeiros inteiros positivos é', soma)\n"
   ]
  }
 ],
 "metadata": {
  "kernelspec": {
   "display_name": "Python 3",
   "language": "python",
   "name": "python3"
  },
  "language_info": {
   "codemirror_mode": {
    "name": "ipython",
    "version": 3
   },
   "file_extension": ".py",
   "mimetype": "text/x-python",
   "name": "python",
   "nbconvert_exporter": "python",
   "pygments_lexer": "ipython3",
   "version": "3.7.6"
  }
 },
 "nbformat": 4,
 "nbformat_minor": 4
}
