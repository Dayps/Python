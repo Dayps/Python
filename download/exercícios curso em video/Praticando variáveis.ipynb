{
 "cells": [
  {
   "cell_type": "code",
   "execution_count": 1,
   "source": [
    "\r\n",
    "\r\n",
    "print('Ola, mundo!')\r\n",
    "print(7+4)\r\n",
    "print('7'+'4')\r\n",
    "                             "
   ],
   "outputs": [
    {
     "output_type": "stream",
     "name": "stdout",
     "text": [
      "Ola, mundo!\n",
      "11\n",
      "74\n"
     ]
    }
   ],
   "metadata": {}
  },
  {
   "cell_type": "code",
   "execution_count": 6,
   "source": [
    "nome = 'Ana'\r\n",
    "idade = 20\r\n",
    "peso = 70.5\r\n",
    "print(nome, idade, peso)"
   ],
   "outputs": [
    {
     "output_type": "stream",
     "name": "stdout",
     "text": [
      "Ana 20 70.5\n"
     ]
    }
   ],
   "metadata": {}
  },
  {
   "cell_type": "code",
   "execution_count": 7,
   "source": [
    "nome = input('Qual é seu nome?')\r\n",
    "idade = input('Qual é sua idade?')\r\n",
    "peso = input('Qual é o seu peso')\r\n",
    "print(nome, idade, peso)"
   ],
   "outputs": [
    {
     "output_type": "stream",
     "name": "stdout",
     "text": [
      "Qual é seu nome?Clueza\n",
      "Qual é sua idade?70\n",
      "Qual é o seu peso80\n",
      "Clueza 70 80\n"
     ]
    }
   ],
   "metadata": {}
  },
  {
   "cell_type": "code",
   "execution_count": null,
   "source": [
    "# Dasafio 1\r\n",
    "nome = input('Qual seu nome ?')\r\n",
    "print('Olá,', nome,'! Prazer em te conhecer')"
   ],
   "outputs": [],
   "metadata": {}
  },
  {
   "cell_type": "code",
   "execution_count": null,
   "source": [
    "# Desafio 2\r\n",
    "dia = input('Qual é o dia de seu nascimento? ')\r\n",
    "mês = input('Qual mês do seu nascimeto? ')\r\n",
    "ano = input('Qual é o ano do seu nascimento? ')\r\n",
    "print('Você nasceu no dia', dia,'de',mês,'de', ano,'. Correto?')"
   ],
   "outputs": [],
   "metadata": {
    "scrolled": true
   }
  },
  {
   "cell_type": "code",
   "execution_count": null,
   "source": [
    "#Este é um comentario de uma linha"
   ],
   "outputs": [],
   "metadata": {}
  },
  {
   "cell_type": "code",
   "execution_count": null,
   "source": [],
   "outputs": [],
   "metadata": {}
  }
 ],
 "metadata": {
  "kernelspec": {
   "name": "python3",
   "display_name": "Python 3.7.6 64-bit ('base': conda)"
  },
  "language_info": {
   "codemirror_mode": {
    "name": "ipython",
    "version": 3
   },
   "file_extension": ".py",
   "mimetype": "text/x-python",
   "name": "python",
   "nbconvert_exporter": "python",
   "pygments_lexer": "ipython3",
   "version": "3.7.6"
  },
  "interpreter": {
   "hash": "206ddc4cda15d5e5fd7c1743457831c7d50a3ab87c24d9b30b7dcca069d7fc37"
  }
 },
 "nbformat": 4,
 "nbformat_minor": 4
}