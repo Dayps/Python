{
 "cells": [
  {
   "cell_type": "code",
   "execution_count": 1,
   "metadata": {},
   "outputs": [
    {
     "name": "stdout",
     "output_type": "stream",
     "text": [
      "Ola, mundo!\n",
      "11\n",
      "74\n"
     ]
    }
   ],
   "source": [
    "\n",
    "\n",
    "print('Ola, mundo!')\n",
    "print(7+4)\n",
    "print('7'+'4')\n",
    "                             "
   ]
  },
  {
   "cell_type": "code",
   "execution_count": 6,
   "metadata": {},
   "outputs": [
    {
     "name": "stdout",
     "output_type": "stream",
     "text": [
      "Ana 20 70.5\n"
     ]
    }
   ],
   "source": [
    "nome = 'Ana'\n",
    "idade = 20\n",
    "peso = 70.5\n",
    "print(nome, idade, peso)"
   ]
  },
  {
   "cell_type": "code",
   "execution_count": 1,
   "metadata": {},
   "outputs": [
    {
     "name": "stdout",
     "output_type": "stream",
     "text": [
      "Qual é seu nome? Cleuza\n",
      "Qual é sua idade? 80\n",
      "Qual é o seu peso? 68\n",
      "Cleuza 80 68\n"
     ]
    }
   ],
   "source": [
    "nome = input('Qual é seu nome? ')\n",
    "idade = input('Qual é sua idade? ')\n",
    "peso = input('Qual é o seu peso? ')\n",
    "print(nome, idade, peso)"
   ]
  },
  {
   "cell_type": "code",
   "execution_count": 2,
   "metadata": {},
   "outputs": [
    {
     "name": "stdout",
     "output_type": "stream",
     "text": [
      "Qual seu nome ?Ana\n",
      "Olá, Ana ! Prazer em te conhecer\n"
     ]
    }
   ],
   "source": [
    "# Dasafio 1\n",
    "nome = input('Qual seu nome ?')\n",
    "print('Olá,', nome,'! Prazer em te conhecer')"
   ]
  },
  {
   "cell_type": "code",
   "execution_count": 3,
   "metadata": {
    "scrolled": true
   },
   "outputs": [
    {
     "name": "stdout",
     "output_type": "stream",
     "text": [
      "Qual é o dia de seu nascimento? 10\n",
      "Qual mês do seu nascimeto? maio\n",
      "Qual é o ano do seu nascimento? 1990\n",
      "Você nasceu no dia 10 de maio de 1990 . Correto?\n"
     ]
    }
   ],
   "source": [
    "# Desafio 2\n",
    "dia = input('Qual é o dia de seu nascimento? ')\n",
    "mês = input('Qual mês do seu nascimeto? ')\n",
    "ano = input('Qual é o ano do seu nascimento? ')\n",
    "print('Você nasceu no dia', dia,'de',mês,'de', ano,'. Correto?')"
   ]
  },
  {
   "cell_type": "code",
   "execution_count": null,
   "metadata": {},
   "outputs": [],
   "source": [
    "#Este é um comentario de uma linha"
   ]
  },
  {
   "cell_type": "code",
   "execution_count": null,
   "metadata": {},
   "outputs": [],
   "source": []
  }
 ],
 "metadata": {
  "interpreter": {
   "hash": "206ddc4cda15d5e5fd7c1743457831c7d50a3ab87c24d9b30b7dcca069d7fc37"
  },
  "kernelspec": {
   "display_name": "Python 3",
   "language": "python",
   "name": "python3"
  },
  "language_info": {
   "codemirror_mode": {
    "name": "ipython",
    "version": 3
   },
   "file_extension": ".py",
   "mimetype": "text/x-python",
   "name": "python",
   "nbconvert_exporter": "python",
   "pygments_lexer": "ipython3",
   "version": "3.7.6"
  }
 },
 "nbformat": 4,
 "nbformat_minor": 4
}
